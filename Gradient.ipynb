{
 "cells": [
  {
   "cell_type": "code",
   "execution_count": 9,
   "metadata": {},
   "outputs": [],
   "source": [
    "import numpy as np\n",
    "import pandas as pd\n",
    "import matplotlib.pyplot as plt"
   ]
  },
  {
   "cell_type": "code",
   "execution_count": 10,
   "metadata": {},
   "outputs": [
    {
     "data": {
      "text/html": [
       "<div>\n",
       "<style scoped>\n",
       "    .dataframe tbody tr th:only-of-type {\n",
       "        vertical-align: middle;\n",
       "    }\n",
       "\n",
       "    .dataframe tbody tr th {\n",
       "        vertical-align: top;\n",
       "    }\n",
       "\n",
       "    .dataframe thead th {\n",
       "        text-align: right;\n",
       "    }\n",
       "</style>\n",
       "<table border=\"1\" class=\"dataframe\">\n",
       "  <thead>\n",
       "    <tr style=\"text-align: right;\">\n",
       "      <th></th>\n",
       "      <th>Gender</th>\n",
       "      <th>Height</th>\n",
       "      <th>Weight</th>\n",
       "    </tr>\n",
       "  </thead>\n",
       "  <tbody>\n",
       "    <tr>\n",
       "      <td>7727</td>\n",
       "      <td>Female</td>\n",
       "      <td>63.249253</td>\n",
       "      <td>131.647765</td>\n",
       "    </tr>\n",
       "    <tr>\n",
       "      <td>496</td>\n",
       "      <td>Male</td>\n",
       "      <td>62.178331</td>\n",
       "      <td>145.898842</td>\n",
       "    </tr>\n",
       "    <tr>\n",
       "      <td>2888</td>\n",
       "      <td>Male</td>\n",
       "      <td>69.309503</td>\n",
       "      <td>191.415025</td>\n",
       "    </tr>\n",
       "    <tr>\n",
       "      <td>914</td>\n",
       "      <td>Male</td>\n",
       "      <td>66.795793</td>\n",
       "      <td>186.993899</td>\n",
       "    </tr>\n",
       "    <tr>\n",
       "      <td>2954</td>\n",
       "      <td>Male</td>\n",
       "      <td>67.363490</td>\n",
       "      <td>178.173833</td>\n",
       "    </tr>\n",
       "    <tr>\n",
       "      <td>...</td>\n",
       "      <td>...</td>\n",
       "      <td>...</td>\n",
       "      <td>...</td>\n",
       "    </tr>\n",
       "    <tr>\n",
       "      <td>8635</td>\n",
       "      <td>Female</td>\n",
       "      <td>72.088712</td>\n",
       "      <td>192.530863</td>\n",
       "    </tr>\n",
       "    <tr>\n",
       "      <td>5230</td>\n",
       "      <td>Female</td>\n",
       "      <td>66.255298</td>\n",
       "      <td>148.832458</td>\n",
       "    </tr>\n",
       "    <tr>\n",
       "      <td>6419</td>\n",
       "      <td>Female</td>\n",
       "      <td>64.106181</td>\n",
       "      <td>144.765943</td>\n",
       "    </tr>\n",
       "    <tr>\n",
       "      <td>1150</td>\n",
       "      <td>Male</td>\n",
       "      <td>71.963015</td>\n",
       "      <td>199.981620</td>\n",
       "    </tr>\n",
       "    <tr>\n",
       "      <td>2140</td>\n",
       "      <td>Male</td>\n",
       "      <td>72.446348</td>\n",
       "      <td>196.632239</td>\n",
       "    </tr>\n",
       "  </tbody>\n",
       "</table>\n",
       "<p>100 rows × 3 columns</p>\n",
       "</div>"
      ],
      "text/plain": [
       "      Gender     Height      Weight\n",
       "7727  Female  63.249253  131.647765\n",
       "496     Male  62.178331  145.898842\n",
       "2888    Male  69.309503  191.415025\n",
       "914     Male  66.795793  186.993899\n",
       "2954    Male  67.363490  178.173833\n",
       "...      ...        ...         ...\n",
       "8635  Female  72.088712  192.530863\n",
       "5230  Female  66.255298  148.832458\n",
       "6419  Female  64.106181  144.765943\n",
       "1150    Male  71.963015  199.981620\n",
       "2140    Male  72.446348  196.632239\n",
       "\n",
       "[100 rows x 3 columns]"
      ]
     },
     "execution_count": 10,
     "metadata": {},
     "output_type": "execute_result"
    }
   ],
   "source": [
    "df = pd.read_csv('C:/Users/Micaela Campher/Desktop/weightdataset.csv')\n",
    "df.sample(100)"
   ]
  },
  {
   "cell_type": "code",
   "execution_count": 11,
   "metadata": {},
   "outputs": [
    {
     "data": {
      "text/plain": [
       "<matplotlib.collections.PathCollection at 0x1b826e2eb48>"
      ]
     },
     "execution_count": 11,
     "metadata": {},
     "output_type": "execute_result"
    },
    {
     "data": {
      "image/png": "[encoded data removed]",
      "text/plain": [
       "<Figure size 432x288 with 1 Axes>"
      ]
     },
     "metadata": {
      "needs_background": "light"
     },
     "output_type": "display_data"
    }
   ],
   "source": [
    "x = df.iloc[:, 1]\n",
    "y = df.iloc[:, 2]\n",
    "\n",
    "plt.scatter(x,y)"
   ]
  },
  {
   "cell_type": "code",
   "execution_count": 12,
   "metadata": {},
   "outputs": [],
   "source": [
    "lr = 0.0001\n",
    "Epochs = 1000\n",
    "count = 0\n",
    "n = float(len(x))\n",
    "\n",
    "\n",
    "theta_0 = 10\n",
    "theta_1 = 15"
   ]
  },
  {
   "cell_type": "code",
   "execution_count": 13,
   "metadata": {},
   "outputs": [],
   "source": [
    "def derivative_theta_0(x, y, y_p, n):\n",
    "    return ((-1/n) * sum(y - y_p))\n",
    "\n",
    "def derivative_theta_1(x, y, y_p, n):\n",
    "    return ((-1/n) * sum((y - y_p) * x))\n",
    "\n",
    "T1 = []\n",
    "T2 = []\n",
    "\n",
    "while count <= Epochs:\n",
    "    y_p = theta_0 + theta_1 * x\n",
    "    theta_0 = theta_0 - lr * derivative_theta_0(x, y, y_p, n)\n",
    "    theta_1 = theta_1 - lr * derivative_theta_1(x, y, y_p, n)\n",
    "    T1.append(theta_0)\n",
    "    T2.append(theta_1)\n",
    "    count += 1"
   ]
  },
  {
   "cell_type": "code",
   "execution_count": 14,
   "metadata": {},
   "outputs": [
    {
     "data": {
      "image/png": "[encoded data removed]",
      "text/plain": [
       "<Figure size 432x288 with 1 Axes>"
      ]
     },
     "metadata": {
      "needs_background": "light"
     },
     "output_type": "display_data"
    }
   ],
   "source": [
    "y_p = theta_0 + theta_1 * x\n",
    "\n",
    "plt.scatter(x, y)\n",
    "plt.plot([min(x), max(x)], [min(y_p), max(y_p)], color='red')\n",
    "plt.show()"
   ]
  },
  {
   "cell_type": "code",
   "execution_count": null,
   "metadata": {},
   "outputs": [],
   "source": []
  },
  {
   "cell_type": "code",
   "execution_count": null,
   "metadata": {},
   "outputs": [],
   "source": []
  }
 ],
 "metadata": {
  "kernelspec": {
   "display_name": "Python 3",
   "language": "python",
   "name": "python3"
  },
  "language_info": {
   "codemirror_mode": {
    "name": "ipython",
    "version": 3
   },
   "file_extension": ".py",
   "mimetype": "text/x-python",
   "name": "python",
   "nbconvert_exporter": "python",
   "pygments_lexer": "ipython3",
   "version": "3.7.4"
  }
 },
 "nbformat": 4,
 "nbformat_minor": 4
}
